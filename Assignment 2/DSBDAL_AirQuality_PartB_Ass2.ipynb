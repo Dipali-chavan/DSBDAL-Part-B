{
 "cells": [
  {
   "cell_type": "code",
   "execution_count": null,
   "id": "51beebe6",
   "metadata": {},
   "outputs": [],
   "source": []
  },
  {
   "cell_type": "code",
   "execution_count": 1,
   "id": "a17f9917",
   "metadata": {},
   "outputs": [],
   "source": [
    "import pandas as pd"
   ]
  },
  {
   "cell_type": "code",
   "execution_count": 2,
   "id": "c35c90a3",
   "metadata": {},
   "outputs": [
    {
     "data": {
      "text/html": [
       "<div>\n",
       "<style scoped>\n",
       "    .dataframe tbody tr th:only-of-type {\n",
       "        vertical-align: middle;\n",
       "    }\n",
       "\n",
       "    .dataframe tbody tr th {\n",
       "        vertical-align: top;\n",
       "    }\n",
       "\n",
       "    .dataframe thead th {\n",
       "        text-align: right;\n",
       "    }\n",
       "</style>\n",
       "<table border=\"1\" class=\"dataframe\">\n",
       "  <thead>\n",
       "    <tr style=\"text-align: right;\">\n",
       "      <th></th>\n",
       "      <th>Stn Code</th>\n",
       "      <th>Sampling Date</th>\n",
       "      <th>State</th>\n",
       "      <th>City</th>\n",
       "      <th>Location of Monitoring Station</th>\n",
       "      <th>Agency</th>\n",
       "      <th>Type of Location</th>\n",
       "      <th>SO2</th>\n",
       "      <th>NO2</th>\n",
       "      <th>RSPM/PM10</th>\n",
       "      <th>PM 2.5</th>\n",
       "    </tr>\n",
       "  </thead>\n",
       "  <tbody>\n",
       "    <tr>\n",
       "      <th>0</th>\n",
       "      <td>68</td>\n",
       "      <td>02-01-15</td>\n",
       "      <td>Odisha</td>\n",
       "      <td>Talcher</td>\n",
       "      <td>T.T.P.S.Colony, Talcher</td>\n",
       "      <td>Odisha State Pollution Control Board</td>\n",
       "      <td>Industrial Area</td>\n",
       "      <td>11</td>\n",
       "      <td>24</td>\n",
       "      <td>143</td>\n",
       "      <td>102.0</td>\n",
       "    </tr>\n",
       "    <tr>\n",
       "      <th>1</th>\n",
       "      <td>68</td>\n",
       "      <td>06-01-15</td>\n",
       "      <td>Odisha</td>\n",
       "      <td>Talcher</td>\n",
       "      <td>T.T.P.S.Colony, Talcher</td>\n",
       "      <td>Odisha State Pollution Control Board</td>\n",
       "      <td>Industrial Area</td>\n",
       "      <td>10</td>\n",
       "      <td>23</td>\n",
       "      <td>133</td>\n",
       "      <td>96.0</td>\n",
       "    </tr>\n",
       "    <tr>\n",
       "      <th>2</th>\n",
       "      <td>68</td>\n",
       "      <td>09-01-15</td>\n",
       "      <td>Odisha</td>\n",
       "      <td>Talcher</td>\n",
       "      <td>T.T.P.S.Colony, Talcher</td>\n",
       "      <td>Odisha State Pollution Control Board</td>\n",
       "      <td>Industrial Area</td>\n",
       "      <td>8</td>\n",
       "      <td>25</td>\n",
       "      <td>125</td>\n",
       "      <td>116.0</td>\n",
       "    </tr>\n",
       "    <tr>\n",
       "      <th>3</th>\n",
       "      <td>68</td>\n",
       "      <td>13-01-15</td>\n",
       "      <td>Odisha</td>\n",
       "      <td>Talcher</td>\n",
       "      <td>T.T.P.S.Colony, Talcher</td>\n",
       "      <td>Odisha State Pollution Control Board</td>\n",
       "      <td>Industrial Area</td>\n",
       "      <td>10</td>\n",
       "      <td>25</td>\n",
       "      <td>137</td>\n",
       "      <td>107.0</td>\n",
       "    </tr>\n",
       "    <tr>\n",
       "      <th>4</th>\n",
       "      <td>68</td>\n",
       "      <td>16-01-15</td>\n",
       "      <td>Odisha</td>\n",
       "      <td>Talcher</td>\n",
       "      <td>T.T.P.S.Colony, Talcher</td>\n",
       "      <td>Odisha State Pollution Control Board</td>\n",
       "      <td>Industrial Area</td>\n",
       "      <td>9</td>\n",
       "      <td>26</td>\n",
       "      <td>186</td>\n",
       "      <td>118.0</td>\n",
       "    </tr>\n",
       "    <tr>\n",
       "      <th>...</th>\n",
       "      <td>...</td>\n",
       "      <td>...</td>\n",
       "      <td>...</td>\n",
       "      <td>...</td>\n",
       "      <td>...</td>\n",
       "      <td>...</td>\n",
       "      <td>...</td>\n",
       "      <td>...</td>\n",
       "      <td>...</td>\n",
       "      <td>...</td>\n",
       "      <td>...</td>\n",
       "    </tr>\n",
       "    <tr>\n",
       "      <th>2387</th>\n",
       "      <td>819</td>\n",
       "      <td>15-12-15</td>\n",
       "      <td>Odisha</td>\n",
       "      <td>Kalinga Nagar</td>\n",
       "      <td>Roof of RO OFFICE BUILDING</td>\n",
       "      <td>Odisha State Pollution Control Board</td>\n",
       "      <td>Industrial Area</td>\n",
       "      <td>2</td>\n",
       "      <td>10</td>\n",
       "      <td>92</td>\n",
       "      <td>35.0</td>\n",
       "    </tr>\n",
       "    <tr>\n",
       "      <th>2388</th>\n",
       "      <td>819</td>\n",
       "      <td>17-12-15</td>\n",
       "      <td>Odisha</td>\n",
       "      <td>Kalinga Nagar</td>\n",
       "      <td>Roof of RO OFFICE BUILDING</td>\n",
       "      <td>Odisha State Pollution Control Board</td>\n",
       "      <td>Industrial Area</td>\n",
       "      <td>2</td>\n",
       "      <td>10</td>\n",
       "      <td>99</td>\n",
       "      <td>40.0</td>\n",
       "    </tr>\n",
       "    <tr>\n",
       "      <th>2389</th>\n",
       "      <td>819</td>\n",
       "      <td>22-12-15</td>\n",
       "      <td>Odisha</td>\n",
       "      <td>Kalinga Nagar</td>\n",
       "      <td>Roof of RO OFFICE BUILDING</td>\n",
       "      <td>Odisha State Pollution Control Board</td>\n",
       "      <td>Industrial Area</td>\n",
       "      <td>2</td>\n",
       "      <td>10</td>\n",
       "      <td>90</td>\n",
       "      <td>38.0</td>\n",
       "    </tr>\n",
       "    <tr>\n",
       "      <th>2390</th>\n",
       "      <td>819</td>\n",
       "      <td>26-12-15</td>\n",
       "      <td>Odisha</td>\n",
       "      <td>Kalinga Nagar</td>\n",
       "      <td>Roof of RO OFFICE BUILDING</td>\n",
       "      <td>Odisha State Pollution Control Board</td>\n",
       "      <td>Industrial Area</td>\n",
       "      <td>2</td>\n",
       "      <td>10</td>\n",
       "      <td>97</td>\n",
       "      <td>39.0</td>\n",
       "    </tr>\n",
       "    <tr>\n",
       "      <th>2391</th>\n",
       "      <td>819</td>\n",
       "      <td>29-12-15</td>\n",
       "      <td>Odisha</td>\n",
       "      <td>Kalinga Nagar</td>\n",
       "      <td>Roof of RO OFFICE BUILDING</td>\n",
       "      <td>Odisha State Pollution Control Board</td>\n",
       "      <td>Industrial Area</td>\n",
       "      <td>2</td>\n",
       "      <td>10</td>\n",
       "      <td>98</td>\n",
       "      <td>39.0</td>\n",
       "    </tr>\n",
       "  </tbody>\n",
       "</table>\n",
       "<p>2392 rows × 11 columns</p>\n",
       "</div>"
      ],
      "text/plain": [
       "      Stn Code Sampling Date   State           City  \\\n",
       "0           68      02-01-15  Odisha        Talcher   \n",
       "1           68      06-01-15  Odisha        Talcher   \n",
       "2           68      09-01-15  Odisha        Talcher   \n",
       "3           68      13-01-15  Odisha        Talcher   \n",
       "4           68      16-01-15  Odisha        Talcher   \n",
       "...        ...           ...     ...            ...   \n",
       "2387       819      15-12-15  Odisha  Kalinga Nagar   \n",
       "2388       819      17-12-15  Odisha  Kalinga Nagar   \n",
       "2389       819      22-12-15  Odisha  Kalinga Nagar   \n",
       "2390       819      26-12-15  Odisha  Kalinga Nagar   \n",
       "2391       819      29-12-15  Odisha  Kalinga Nagar   \n",
       "\n",
       "     Location of Monitoring Station                                Agency  \\\n",
       "0           T.T.P.S.Colony, Talcher  Odisha State Pollution Control Board   \n",
       "1           T.T.P.S.Colony, Talcher  Odisha State Pollution Control Board   \n",
       "2           T.T.P.S.Colony, Talcher  Odisha State Pollution Control Board   \n",
       "3           T.T.P.S.Colony, Talcher  Odisha State Pollution Control Board   \n",
       "4           T.T.P.S.Colony, Talcher  Odisha State Pollution Control Board   \n",
       "...                             ...                                   ...   \n",
       "2387     Roof of RO OFFICE BUILDING  Odisha State Pollution Control Board   \n",
       "2388     Roof of RO OFFICE BUILDING  Odisha State Pollution Control Board   \n",
       "2389     Roof of RO OFFICE BUILDING  Odisha State Pollution Control Board   \n",
       "2390     Roof of RO OFFICE BUILDING  Odisha State Pollution Control Board   \n",
       "2391     Roof of RO OFFICE BUILDING  Odisha State Pollution Control Board   \n",
       "\n",
       "     Type of Location  SO2  NO2  RSPM/PM10  PM 2.5  \n",
       "0     Industrial Area   11   24        143   102.0  \n",
       "1     Industrial Area   10   23        133    96.0  \n",
       "2     Industrial Area    8   25        125   116.0  \n",
       "3     Industrial Area   10   25        137   107.0  \n",
       "4     Industrial Area    9   26        186   118.0  \n",
       "...               ...  ...  ...        ...     ...  \n",
       "2387  Industrial Area    2   10         92    35.0  \n",
       "2388  Industrial Area    2   10         99    40.0  \n",
       "2389  Industrial Area    2   10         90    38.0  \n",
       "2390  Industrial Area    2   10         97    39.0  \n",
       "2391  Industrial Area    2   10         98    39.0  \n",
       "\n",
       "[2392 rows x 11 columns]"
      ]
     },
     "execution_count": 2,
     "metadata": {},
     "output_type": "execute_result"
    }
   ],
   "source": [
    "df=pd.read_csv('AirQualityodisha.csv',delimiter=',')\n",
    "df"
   ]
  },
  {
   "cell_type": "code",
   "execution_count": 3,
   "id": "9b557950",
   "metadata": {},
   "outputs": [
    {
     "data": {
      "text/plain": [
       "<bound method NDFrame.describe of       Stn Code Sampling Date   State           City  \\\n",
       "0           68      02-01-15  Odisha        Talcher   \n",
       "1           68      06-01-15  Odisha        Talcher   \n",
       "2           68      09-01-15  Odisha        Talcher   \n",
       "3           68      13-01-15  Odisha        Talcher   \n",
       "4           68      16-01-15  Odisha        Talcher   \n",
       "...        ...           ...     ...            ...   \n",
       "2387       819      15-12-15  Odisha  Kalinga Nagar   \n",
       "2388       819      17-12-15  Odisha  Kalinga Nagar   \n",
       "2389       819      22-12-15  Odisha  Kalinga Nagar   \n",
       "2390       819      26-12-15  Odisha  Kalinga Nagar   \n",
       "2391       819      29-12-15  Odisha  Kalinga Nagar   \n",
       "\n",
       "     Location of Monitoring Station                                Agency  \\\n",
       "0           T.T.P.S.Colony, Talcher  Odisha State Pollution Control Board   \n",
       "1           T.T.P.S.Colony, Talcher  Odisha State Pollution Control Board   \n",
       "2           T.T.P.S.Colony, Talcher  Odisha State Pollution Control Board   \n",
       "3           T.T.P.S.Colony, Talcher  Odisha State Pollution Control Board   \n",
       "4           T.T.P.S.Colony, Talcher  Odisha State Pollution Control Board   \n",
       "...                             ...                                   ...   \n",
       "2387     Roof of RO OFFICE BUILDING  Odisha State Pollution Control Board   \n",
       "2388     Roof of RO OFFICE BUILDING  Odisha State Pollution Control Board   \n",
       "2389     Roof of RO OFFICE BUILDING  Odisha State Pollution Control Board   \n",
       "2390     Roof of RO OFFICE BUILDING  Odisha State Pollution Control Board   \n",
       "2391     Roof of RO OFFICE BUILDING  Odisha State Pollution Control Board   \n",
       "\n",
       "     Type of Location  SO2  NO2  RSPM/PM10  PM 2.5  \n",
       "0     Industrial Area   11   24        143   102.0  \n",
       "1     Industrial Area   10   23        133    96.0  \n",
       "2     Industrial Area    8   25        125   116.0  \n",
       "3     Industrial Area   10   25        137   107.0  \n",
       "4     Industrial Area    9   26        186   118.0  \n",
       "...               ...  ...  ...        ...     ...  \n",
       "2387  Industrial Area    2   10         92    35.0  \n",
       "2388  Industrial Area    2   10         99    40.0  \n",
       "2389  Industrial Area    2   10         90    38.0  \n",
       "2390  Industrial Area    2   10         97    39.0  \n",
       "2391  Industrial Area    2   10         98    39.0  \n",
       "\n",
       "[2392 rows x 11 columns]>"
      ]
     },
     "execution_count": 3,
     "metadata": {},
     "output_type": "execute_result"
    }
   ],
   "source": [
    "df.describe"
   ]
  },
  {
   "cell_type": "code",
   "execution_count": 4,
   "id": "9cdc40c0",
   "metadata": {},
   "outputs": [
    {
     "data": {
      "text/plain": [
       "Index(['Stn Code', 'Sampling Date', 'State', 'City',\n",
       "       'Location of Monitoring Station', 'Agency', 'Type of Location', 'SO2',\n",
       "       'NO2', 'RSPM/PM10', 'PM 2.5'],\n",
       "      dtype='object')"
      ]
     },
     "execution_count": 4,
     "metadata": {},
     "output_type": "execute_result"
    }
   ],
   "source": [
    "df.columns"
   ]
  },
  {
   "cell_type": "code",
   "execution_count": 5,
   "id": "dc822553",
   "metadata": {},
   "outputs": [
    {
     "data": {
      "text/plain": [
       "(2392, 11)"
      ]
     },
     "execution_count": 5,
     "metadata": {},
     "output_type": "execute_result"
    }
   ],
   "source": [
    "df.shape"
   ]
  },
  {
   "cell_type": "code",
   "execution_count": 6,
   "id": "ad5da01a",
   "metadata": {},
   "outputs": [
    {
     "data": {
      "text/plain": [
       "Stn Code                            0\n",
       "Sampling Date                       0\n",
       "State                               0\n",
       "City                                0\n",
       "Location of Monitoring Station      0\n",
       "Agency                              0\n",
       "Type of Location                    0\n",
       "SO2                                 0\n",
       "NO2                                 0\n",
       "RSPM/PM10                           0\n",
       "PM 2.5                            332\n",
       "dtype: int64"
      ]
     },
     "execution_count": 6,
     "metadata": {},
     "output_type": "execute_result"
    }
   ],
   "source": [
    "#i) Data Cleaning ii)  Data Transformation\n",
    "\n",
    "df.isnull().sum()"
   ]
  },
  {
   "cell_type": "code",
   "execution_count": 7,
   "id": "8b1b0a2f",
   "metadata": {},
   "outputs": [
    {
     "name": "stdout",
     "output_type": "stream",
     "text": [
      "0\n"
     ]
    }
   ],
   "source": [
    "med=df['PM 2.5'].mean()\n",
    "newdf=df['PM 2.5'].fillna(med)\n",
    "\n",
    "print(newdf.isnull().sum())"
   ]
  },
  {
   "cell_type": "code",
   "execution_count": 8,
   "id": "5faf1f43-accf-4108-95d0-7a58bf16cf5e",
   "metadata": {},
   "outputs": [
    {
     "data": {
      "text/plain": [
       "42.47281553398058"
      ]
     },
     "execution_count": 8,
     "metadata": {},
     "output_type": "execute_result"
    }
   ],
   "source": [
    "med"
   ]
  },
  {
   "cell_type": "code",
   "execution_count": 9,
   "id": "07300f0a",
   "metadata": {},
   "outputs": [],
   "source": [
    "#!pip install mysql-connector-python"
   ]
  },
  {
   "cell_type": "code",
   "execution_count": 10,
   "id": "63ced725",
   "metadata": {},
   "outputs": [
    {
     "ename": "ModuleNotFoundError",
     "evalue": "No module named 'mysql'",
     "output_type": "error",
     "traceback": [
      "\u001b[1;31m---------------------------------------------------------------------------\u001b[0m",
      "\u001b[1;31mModuleNotFoundError\u001b[0m                       Traceback (most recent call last)",
      "\u001b[1;32m<ipython-input-10-b889f0e475b6>\u001b[0m in \u001b[0;36m<module>\u001b[1;34m\u001b[0m\n\u001b[0;32m      1\u001b[0m \u001b[1;31m#Data integration\u001b[0m\u001b[1;33m\u001b[0m\u001b[1;33m\u001b[0m\u001b[1;33m\u001b[0m\u001b[0m\n\u001b[1;32m----> 2\u001b[1;33m \u001b[1;32mimport\u001b[0m \u001b[0mmysql\u001b[0m\u001b[1;33m.\u001b[0m\u001b[0mconnector\u001b[0m \u001b[1;32mas\u001b[0m \u001b[0mcon\u001b[0m\u001b[1;33m\u001b[0m\u001b[1;33m\u001b[0m\u001b[0m\n\u001b[0m",
      "\u001b[1;31mModuleNotFoundError\u001b[0m: No module named 'mysql'"
     ]
    }
   ],
   "source": [
    "#Data integration\n",
    "import mysql.connector as con"
   ]
  },
  {
   "cell_type": "code",
   "execution_count": 11,
   "id": "4fd6340d",
   "metadata": {},
   "outputs": [
    {
     "name": "stdout",
     "output_type": "stream",
     "text": [
      "name 'con' is not defined\n"
     ]
    }
   ],
   "source": [
    "try:\n",
    "    mydb=con.connect(host='localhost',user='root',passwd='mysql123')\n",
    "    print(mydb.is_connected())\n",
    "    mydb.close()\n",
    "except Exception as e:\n",
    "    print(str(e))"
   ]
  },
  {
   "cell_type": "code",
   "execution_count": 33,
   "id": "d53da3f8",
   "metadata": {},
   "outputs": [
    {
     "name": "stdout",
     "output_type": "stream",
     "text": [
      "name 'con' is not defined\n"
     ]
    }
   ],
   "source": [
    "try:\n",
    "    mydb=con.connect(host='localhost',user='root',passwd='mysql123')\n",
    "    print(mydb.is_connected())\n",
    "    cursor=mydb.cursor() # cursor object is used to execute the SQL queries , it creates the pointer\n",
    "    query=\"show databases\"\n",
    "    cursor.execute(query)\n",
    "    print(cursor.fetchall())\n",
    "    mydb.close()\n",
    "except Exception as e:\n",
    "    print(str(e))"
   ]
  },
  {
   "cell_type": "code",
   "execution_count": 34,
   "id": "97054517",
   "metadata": {},
   "outputs": [
    {
     "ename": "NameError",
     "evalue": "name 'con' is not defined",
     "output_type": "error",
     "traceback": [
      "\u001b[1;31m---------------------------------------------------------------------------\u001b[0m",
      "\u001b[1;31mNameError\u001b[0m                                 Traceback (most recent call last)",
      "\u001b[1;32m<ipython-input-34-a1179f3aad07>\u001b[0m in \u001b[0;36m<module>\u001b[1;34m\u001b[0m\n\u001b[0;32m      1\u001b[0m \u001b[0mquery\u001b[0m\u001b[1;33m=\u001b[0m\u001b[1;34m'create table testin.demotab(rollno int(10),name VARCHAR(10), addr VARCHAR(50),section VARCHAR(10))'\u001b[0m\u001b[1;33m\u001b[0m\u001b[1;33m\u001b[0m\u001b[0m\n\u001b[1;32m----> 2\u001b[1;33m \u001b[0mmydb\u001b[0m\u001b[1;33m=\u001b[0m\u001b[0mcon\u001b[0m\u001b[1;33m.\u001b[0m\u001b[0mconnect\u001b[0m\u001b[1;33m(\u001b[0m\u001b[0mhost\u001b[0m\u001b[1;33m=\u001b[0m\u001b[1;34m'localhost'\u001b[0m\u001b[1;33m,\u001b[0m\u001b[0muser\u001b[0m\u001b[1;33m=\u001b[0m\u001b[1;34m'root'\u001b[0m\u001b[1;33m,\u001b[0m\u001b[0mpasswd\u001b[0m\u001b[1;33m=\u001b[0m\u001b[1;34m'mysql123'\u001b[0m\u001b[1;33m)\u001b[0m\u001b[1;33m\u001b[0m\u001b[1;33m\u001b[0m\u001b[0m\n\u001b[0m\u001b[0;32m      3\u001b[0m \u001b[0mprint\u001b[0m\u001b[1;33m(\u001b[0m\u001b[0mmydb\u001b[0m\u001b[1;33m.\u001b[0m\u001b[0mis_connected\u001b[0m\u001b[1;33m(\u001b[0m\u001b[1;33m)\u001b[0m\u001b[1;33m)\u001b[0m\u001b[1;33m\u001b[0m\u001b[1;33m\u001b[0m\u001b[0m\n\u001b[0;32m      4\u001b[0m \u001b[0mcursor\u001b[0m\u001b[1;33m=\u001b[0m\u001b[0mmydb\u001b[0m\u001b[1;33m.\u001b[0m\u001b[0mcursor\u001b[0m\u001b[1;33m(\u001b[0m\u001b[1;33m)\u001b[0m\u001b[1;33m\u001b[0m\u001b[1;33m\u001b[0m\u001b[0m\n\u001b[0;32m      5\u001b[0m \u001b[0mcursor\u001b[0m\u001b[1;33m.\u001b[0m\u001b[0mexecute\u001b[0m\u001b[1;33m(\u001b[0m\u001b[0mquery\u001b[0m\u001b[1;33m)\u001b[0m\u001b[1;33m\u001b[0m\u001b[1;33m\u001b[0m\u001b[0m\n",
      "\u001b[1;31mNameError\u001b[0m: name 'con' is not defined"
     ]
    }
   ],
   "source": [
    "query='create table testin.demotab(rollno int(10),name VARCHAR(10), addr VARCHAR(50),section VARCHAR(10))'\n",
    "mydb=con.connect(host='localhost',user='root',passwd='mysql123')\n",
    "print(mydb.is_connected())\n",
    "cursor=mydb.cursor()\n",
    "cursor.execute(query)"
   ]
  },
  {
   "cell_type": "code",
   "execution_count": 35,
   "id": "1e066514",
   "metadata": {},
   "outputs": [
    {
     "name": "stdout",
     "output_type": "stream",
     "text": [
      "name 'con' is not defined\n"
     ]
    }
   ],
   "source": [
    "try:\n",
    "    mydb=con.connect(host='localhost',user='root',passwd='mysql123')\n",
    "    print(mydb.is_connected())\n",
    "    cursor=mydb.cursor() # cursor object is used to execute the SQL queries , it creates the pointer\n",
    "    query1=\"use testin\"\n",
    "    cursor.execute(query1)\n",
    "    query2=\"show tables\"\n",
    "    cursor.execute(query2)\n",
    "    print(cursor.fetchall())\n",
    "    mydb.close()\n",
    "except Exception as e:\n",
    "    print(str(e))"
   ]
  },
  {
   "cell_type": "code",
   "execution_count": 36,
   "id": "5287fe73",
   "metadata": {},
   "outputs": [
    {
     "name": "stdout",
     "output_type": "stream",
     "text": [
      "name 'con' is not defined\n"
     ]
    }
   ],
   "source": [
    "try:\n",
    "    mydb=con.connect(host='localhost',database='newglass',user='root',passwd='mysql123')\n",
    "    print(mydb.is_connected())\n",
    "    cursor=mydb.cursor() \n",
    "    query2=\"show databases\"\n",
    "    cursor.execute(query2)\n",
    "    print(cursor.fetchall())\n",
    "    mydb.close()\n",
    "except Exception as e:\n",
    "    print(str(e))"
   ]
  },
  {
   "cell_type": "code",
   "execution_count": 37,
   "id": "fddc3af7",
   "metadata": {},
   "outputs": [
    {
     "ename": "ModuleNotFoundError",
     "evalue": "No module named 'mysql'",
     "output_type": "error",
     "traceback": [
      "\u001b[1;31m---------------------------------------------------------------------------\u001b[0m",
      "\u001b[1;31mModuleNotFoundError\u001b[0m                       Traceback (most recent call last)",
      "\u001b[1;32m<ipython-input-37-556dbde9f051>\u001b[0m in \u001b[0;36m<module>\u001b[1;34m\u001b[0m\n\u001b[1;32m----> 1\u001b[1;33m \u001b[1;32mimport\u001b[0m \u001b[0mmysql\u001b[0m\u001b[1;33m.\u001b[0m\u001b[0mconnector\u001b[0m \u001b[1;32mas\u001b[0m \u001b[0mconn\u001b[0m\u001b[1;33m\u001b[0m\u001b[1;33m\u001b[0m\u001b[0m\n\u001b[0m\u001b[0;32m      2\u001b[0m \u001b[1;32mimport\u001b[0m \u001b[0mpandas\u001b[0m \u001b[1;32mas\u001b[0m \u001b[0mpd\u001b[0m\u001b[1;33m\u001b[0m\u001b[1;33m\u001b[0m\u001b[0m\n\u001b[0;32m      3\u001b[0m \u001b[1;32mimport\u001b[0m \u001b[0mcsv\u001b[0m\u001b[1;33m\u001b[0m\u001b[1;33m\u001b[0m\u001b[0m\n\u001b[0;32m      4\u001b[0m \u001b[1;32mtry\u001b[0m\u001b[1;33m:\u001b[0m\u001b[1;33m\u001b[0m\u001b[1;33m\u001b[0m\u001b[0m\n\u001b[0;32m      5\u001b[0m     \u001b[0mmydb\u001b[0m\u001b[1;33m=\u001b[0m\u001b[0mconn\u001b[0m\u001b[1;33m.\u001b[0m\u001b[0mconnect\u001b[0m\u001b[1;33m(\u001b[0m\u001b[0mhost\u001b[0m\u001b[1;33m=\u001b[0m\u001b[1;34m'localhost'\u001b[0m\u001b[1;33m,\u001b[0m\u001b[0muser\u001b[0m\u001b[1;33m=\u001b[0m\u001b[1;34m'root'\u001b[0m\u001b[1;33m,\u001b[0m\u001b[0mpasswd\u001b[0m\u001b[1;33m=\u001b[0m\u001b[1;34m'mysql123'\u001b[0m\u001b[1;33m,\u001b[0m\u001b[0muse_pure\u001b[0m\u001b[1;33m=\u001b[0m\u001b[1;32mTrue\u001b[0m\u001b[1;33m)\u001b[0m\u001b[1;33m\u001b[0m\u001b[1;33m\u001b[0m\u001b[0m\n",
      "\u001b[1;31mModuleNotFoundError\u001b[0m: No module named 'mysql'"
     ]
    }
   ],
   "source": [
    "import mysql.connector as conn\n",
    "import pandas as pd\n",
    "import csv\n",
    "try:\n",
    "    mydb=conn.connect(host='localhost',user='root',passwd='mysql123',use_pure=True)\n",
    "    print(mydb.is_connected())\n",
    "    #query=\"create database glassdata1\"\n",
    "    #cursor=mydb.cursor()\n",
    "    #cursor.execute(query)\n",
    "    #print(\"Database created\")\n",
    "    mydb.close()\n",
    "    mydb=conn.connect(host=\"localhost\",database='newglass',user='root',passwd='mysql123',use_pure=True)\n",
    "    query=\"create table if not exists glassdata11 (index_number INT(10),RI float (10,5),Na float(10,5),Mg float(10,5),Al float(10,5),Si float(10,5),K float(10,5),Ca float(10,5),Ba float(10,5),Fe float(10,5),Class int(10))\"\n",
    "    \n",
    "    cursor=mydb.cursor()\n",
    "    cursor.execute(query)\n",
    "    print('table created')\n",
    "    #load the data from file to database \n",
    "    with open('glass.data',\"r\") as f:\n",
    "        next(f)\n",
    "        glass_data=csv.reader(f,delimiter=\"\\n\")\n",
    "        print(type(glass_data))\n",
    "        for line in enumerate(glass_data):\n",
    "            print(line)\n",
    "            for list_ in (line[1]):\n",
    "                print(list_)\n",
    "                cursor.execute('insert into glassdata11 values ({values})'.format(values=list_))\n",
    "        print(\"values inserted\")\n",
    "        mydb.commit()\n",
    "        cursor.close()\n",
    "        mydb.close()\n",
    "except Exception as e:\n",
    "    print(str(e))"
   ]
  },
  {
   "cell_type": "code",
   "execution_count": 38,
   "id": "c255e2ad",
   "metadata": {},
   "outputs": [
    {
     "ename": "ModuleNotFoundError",
     "evalue": "No module named 'mysql'",
     "output_type": "error",
     "traceback": [
      "\u001b[1;31m---------------------------------------------------------------------------\u001b[0m",
      "\u001b[1;31mModuleNotFoundError\u001b[0m                       Traceback (most recent call last)",
      "\u001b[1;32m<ipython-input-38-088c941a067a>\u001b[0m in \u001b[0;36m<module>\u001b[1;34m\u001b[0m\n\u001b[1;32m----> 1\u001b[1;33m \u001b[1;32mimport\u001b[0m \u001b[0mmysql\u001b[0m\u001b[1;33m.\u001b[0m\u001b[0mconnector\u001b[0m \u001b[1;32mas\u001b[0m \u001b[0mcon\u001b[0m\u001b[1;33m\u001b[0m\u001b[1;33m\u001b[0m\u001b[0m\n\u001b[0m\u001b[0;32m      2\u001b[0m \u001b[1;32mimport\u001b[0m \u001b[0mpandas\u001b[0m \u001b[1;32mas\u001b[0m \u001b[0mpd\u001b[0m\u001b[1;33m\u001b[0m\u001b[1;33m\u001b[0m\u001b[0m\n\u001b[0;32m      3\u001b[0m \u001b[1;32mtry\u001b[0m\u001b[1;33m:\u001b[0m\u001b[1;33m\u001b[0m\u001b[1;33m\u001b[0m\u001b[0m\n\u001b[0;32m      4\u001b[0m     \u001b[0mmydb\u001b[0m\u001b[1;33m=\u001b[0m\u001b[0mcon\u001b[0m\u001b[1;33m.\u001b[0m\u001b[0mconnect\u001b[0m\u001b[1;33m(\u001b[0m\u001b[0mhost\u001b[0m\u001b[1;33m=\u001b[0m\u001b[1;34m'localhost'\u001b[0m\u001b[1;33m,\u001b[0m\u001b[0mdatabase\u001b[0m\u001b[1;33m=\u001b[0m\u001b[1;34m'newglass'\u001b[0m\u001b[1;33m,\u001b[0m\u001b[0muser\u001b[0m\u001b[1;33m=\u001b[0m\u001b[1;34m'root'\u001b[0m\u001b[1;33m,\u001b[0m\u001b[0mpasswd\u001b[0m\u001b[1;33m=\u001b[0m\u001b[1;34m'mysql123'\u001b[0m\u001b[1;33m,\u001b[0m\u001b[0muse_pure\u001b[0m\u001b[1;33m=\u001b[0m\u001b[1;32mTrue\u001b[0m\u001b[1;33m)\u001b[0m\u001b[1;33m\u001b[0m\u001b[1;33m\u001b[0m\u001b[0m\n\u001b[0;32m      5\u001b[0m     \u001b[0mcursor\u001b[0m\u001b[1;33m=\u001b[0m\u001b[0mmydb\u001b[0m\u001b[1;33m.\u001b[0m\u001b[0mcursor\u001b[0m\u001b[1;33m(\u001b[0m\u001b[1;33m)\u001b[0m\u001b[1;33m\u001b[0m\u001b[1;33m\u001b[0m\u001b[0m\n",
      "\u001b[1;31mModuleNotFoundError\u001b[0m: No module named 'mysql'"
     ]
    }
   ],
   "source": [
    "import mysql.connector as con\n",
    "import pandas as pd\n",
    "try:\n",
    "    mydb=con.connect(host='localhost',database='newglass',user='root',passwd='mysql123',use_pure=True)\n",
    "    cursor=mydb.cursor()\n",
    "    query1=\"use newglass\"\n",
    "    cursor.execute(query1)\n",
    "    query=\"select * from glassdata11;\"\n",
    "        \n",
    "    dataframe_result=pd.read_sql(query,mydb)\n",
    "    print(dataframe_result)\n",
    "    #mydb.close()\n",
    "except Exception as e:\n",
    "    print(str(e))"
   ]
  },
  {
   "cell_type": "code",
   "execution_count": 39,
   "id": "4b1ca69d",
   "metadata": {},
   "outputs": [
    {
     "ename": "ModuleNotFoundError",
     "evalue": "No module named 'mysql'",
     "output_type": "error",
     "traceback": [
      "\u001b[1;31m---------------------------------------------------------------------------\u001b[0m",
      "\u001b[1;31mModuleNotFoundError\u001b[0m                       Traceback (most recent call last)",
      "\u001b[1;32m<ipython-input-39-523a77ee9c1f>\u001b[0m in \u001b[0;36m<module>\u001b[1;34m\u001b[0m\n\u001b[1;32m----> 1\u001b[1;33m \u001b[1;32mimport\u001b[0m \u001b[0mmysql\u001b[0m\u001b[1;33m.\u001b[0m\u001b[0mconnector\u001b[0m \u001b[1;32mas\u001b[0m \u001b[0mcon\u001b[0m\u001b[1;33m\u001b[0m\u001b[1;33m\u001b[0m\u001b[0m\n\u001b[0m\u001b[0;32m      2\u001b[0m \u001b[1;32mimport\u001b[0m \u001b[0mpandas\u001b[0m \u001b[1;32mas\u001b[0m \u001b[0mpd\u001b[0m\u001b[1;33m\u001b[0m\u001b[1;33m\u001b[0m\u001b[0m\n\u001b[0;32m      3\u001b[0m \u001b[1;32mtry\u001b[0m\u001b[1;33m:\u001b[0m\u001b[1;33m\u001b[0m\u001b[1;33m\u001b[0m\u001b[0m\n\u001b[0;32m      4\u001b[0m     \u001b[0mmydb\u001b[0m\u001b[1;33m=\u001b[0m\u001b[0mcon\u001b[0m\u001b[1;33m.\u001b[0m\u001b[0mconnect\u001b[0m\u001b[1;33m(\u001b[0m\u001b[0mhost\u001b[0m\u001b[1;33m=\u001b[0m\u001b[1;34m'localhost'\u001b[0m\u001b[1;33m,\u001b[0m\u001b[0mdatabase\u001b[0m\u001b[1;33m=\u001b[0m\u001b[1;34m'newglass'\u001b[0m\u001b[1;33m,\u001b[0m\u001b[0muser\u001b[0m\u001b[1;33m=\u001b[0m\u001b[1;34m'root'\u001b[0m\u001b[1;33m,\u001b[0m\u001b[0mpasswd\u001b[0m\u001b[1;33m=\u001b[0m\u001b[1;34m'mysql123'\u001b[0m\u001b[1;33m,\u001b[0m\u001b[0muse_pure\u001b[0m\u001b[1;33m=\u001b[0m\u001b[1;32mTrue\u001b[0m\u001b[1;33m)\u001b[0m\u001b[1;33m\u001b[0m\u001b[1;33m\u001b[0m\u001b[0m\n\u001b[0;32m      5\u001b[0m     \u001b[0mcursor\u001b[0m\u001b[1;33m=\u001b[0m\u001b[0mmydb\u001b[0m\u001b[1;33m.\u001b[0m\u001b[0mcursor\u001b[0m\u001b[1;33m(\u001b[0m\u001b[1;33m)\u001b[0m\u001b[1;33m\u001b[0m\u001b[1;33m\u001b[0m\u001b[0m\n",
      "\u001b[1;31mModuleNotFoundError\u001b[0m: No module named 'mysql'"
     ]
    }
   ],
   "source": [
    "import mysql.connector as con\n",
    "import pandas as pd\n",
    "try:\n",
    "    mydb=con.connect(host='localhost',database='newglass',user='root',passwd='mysql123',use_pure=True)\n",
    "    cursor=mydb.cursor()\n",
    "    query1=\"use newglass\"\n",
    "    cursor.execute(query1)\n",
    "    query=\"select Si,Count(Si),Class from newglass.glassdata11 group by Class order by Si;\"\n",
    "\n",
    "    dataframe_result=pd.read_sql(query,mydb)\n",
    "    print(dataframe_result)\n",
    "    #mydb.close()\n",
    "except Exception as e:\n",
    "    print(str(e))"
   ]
  },
  {
   "cell_type": "code",
   "execution_count": 40,
   "id": "bd3415ca",
   "metadata": {},
   "outputs": [],
   "source": [
    "import sqlite3"
   ]
  },
  {
   "cell_type": "code",
   "execution_count": 41,
   "id": "11be0449",
   "metadata": {},
   "outputs": [],
   "source": [
    "db=sqlite3.connect('sample.db')"
   ]
  },
  {
   "cell_type": "code",
   "execution_count": 42,
   "id": "02cbdbd0",
   "metadata": {},
   "outputs": [],
   "source": [
    "c=db.cursor()"
   ]
  },
  {
   "cell_type": "code",
   "execution_count": 43,
   "id": "64475329",
   "metadata": {},
   "outputs": [
    {
     "ename": "OperationalError",
     "evalue": "table company1 already exists",
     "output_type": "error",
     "traceback": [
      "\u001b[1;31m---------------------------------------------------------------------------\u001b[0m",
      "\u001b[1;31mOperationalError\u001b[0m                          Traceback (most recent call last)",
      "\u001b[1;32m<ipython-input-43-8f3b8582b912>\u001b[0m in \u001b[0;36m<module>\u001b[1;34m\u001b[0m\n\u001b[1;32m----> 1\u001b[1;33m \u001b[0mc\u001b[0m\u001b[1;33m.\u001b[0m\u001b[0mexecute\u001b[0m\u001b[1;33m(\u001b[0m\u001b[1;34m'create table company1(id int,name text, age int,addr text,salary real)'\u001b[0m\u001b[1;33m)\u001b[0m\u001b[1;33m\u001b[0m\u001b[1;33m\u001b[0m\u001b[0m\n\u001b[0m",
      "\u001b[1;31mOperationalError\u001b[0m: table company1 already exists"
     ]
    }
   ],
   "source": [
    "c.execute('create table company1(id int,name text, age int,addr text,salary real)')"
   ]
  },
  {
   "cell_type": "code",
   "execution_count": 44,
   "id": "807b0956",
   "metadata": {},
   "outputs": [
    {
     "ename": "OperationalError",
     "evalue": "database is locked",
     "output_type": "error",
     "traceback": [
      "\u001b[1;31m---------------------------------------------------------------------------\u001b[0m",
      "\u001b[1;31mOperationalError\u001b[0m                          Traceback (most recent call last)",
      "\u001b[1;32m<ipython-input-44-6d8de8424688>\u001b[0m in \u001b[0;36m<module>\u001b[1;34m\u001b[0m\n\u001b[1;32m----> 1\u001b[1;33m \u001b[0mc\u001b[0m\u001b[1;33m.\u001b[0m\u001b[0mexecute\u001b[0m\u001b[1;33m(\u001b[0m\u001b[1;34m\"insert into company1 values(1,'vsk',40,'sfdsf',90000)\"\u001b[0m\u001b[1;33m)\u001b[0m\u001b[1;33m\u001b[0m\u001b[1;33m\u001b[0m\u001b[0m\n\u001b[0m",
      "\u001b[1;31mOperationalError\u001b[0m: database is locked"
     ]
    }
   ],
   "source": [
    "c.execute(\"insert into company1 values(1,'vsk',40,'sfdsf',90000)\")"
   ]
  },
  {
   "cell_type": "code",
   "execution_count": null,
   "id": "5933269f",
   "metadata": {},
   "outputs": [],
   "source": [
    "c.execute(\"insert into company1 values(2,'vsk2',32,'sfdsf',93000)\")"
   ]
  },
  {
   "cell_type": "code",
   "execution_count": null,
   "id": "9b6497fd",
   "metadata": {},
   "outputs": [],
   "source": [
    "data=c.execute(\"select * from company1\")"
   ]
  },
  {
   "cell_type": "code",
   "execution_count": null,
   "id": "4dab8331",
   "metadata": {},
   "outputs": [],
   "source": [
    "for record in data:\n",
    "    print(record)"
   ]
  },
  {
   "cell_type": "code",
   "execution_count": 21,
   "id": "66dbc5c8",
   "metadata": {},
   "outputs": [
    {
     "name": "stdout",
     "output_type": "stream",
     "text": [
      "Total number of null values 332\n"
     ]
    }
   ],
   "source": [
    "#error correction\n",
    "#import pandas as pd\n",
    "df=pd.read_csv('AirQualityodisha.csv',delimiter=',')\n",
    "df_wna = df.dropna(subset=['PM 2.5'])\n",
    "x=df['PM 2.5'].isnull().sum()\n",
    "print(\"Total number of null values \"+ str(x))\n"
   ]
  },
  {
   "cell_type": "code",
   "execution_count": 35,
   "id": "7c82f4bb-1bbc-413e-a995-aa53520f7399",
   "metadata": {},
   "outputs": [
    {
     "data": {
      "text/html": [
       "<div>\n",
       "<style scoped>\n",
       "    .dataframe tbody tr th:only-of-type {\n",
       "        vertical-align: middle;\n",
       "    }\n",
       "\n",
       "    .dataframe tbody tr th {\n",
       "        vertical-align: top;\n",
       "    }\n",
       "\n",
       "    .dataframe thead th {\n",
       "        text-align: right;\n",
       "    }\n",
       "</style>\n",
       "<table border=\"1\" class=\"dataframe\">\n",
       "  <thead>\n",
       "    <tr style=\"text-align: right;\">\n",
       "      <th></th>\n",
       "      <th>Stn Code</th>\n",
       "      <th>Sampling Date</th>\n",
       "      <th>State</th>\n",
       "      <th>City</th>\n",
       "      <th>Location of Monitoring Station</th>\n",
       "      <th>Agency</th>\n",
       "      <th>Type of Location</th>\n",
       "      <th>SO2</th>\n",
       "      <th>NO2</th>\n",
       "      <th>RSPM/PM10</th>\n",
       "      <th>PM 2.5</th>\n",
       "    </tr>\n",
       "  </thead>\n",
       "  <tbody>\n",
       "    <tr>\n",
       "      <th>0</th>\n",
       "      <td>68</td>\n",
       "      <td>02-01-15</td>\n",
       "      <td>Odisha</td>\n",
       "      <td>Talcher</td>\n",
       "      <td>T.T.P.S.Colony, Talcher</td>\n",
       "      <td>Odisha State Pollution Control Board</td>\n",
       "      <td>Industrial Area</td>\n",
       "      <td>11</td>\n",
       "      <td>24</td>\n",
       "      <td>143</td>\n",
       "      <td>102.0</td>\n",
       "    </tr>\n",
       "    <tr>\n",
       "      <th>1</th>\n",
       "      <td>68</td>\n",
       "      <td>06-01-15</td>\n",
       "      <td>Odisha</td>\n",
       "      <td>Talcher</td>\n",
       "      <td>T.T.P.S.Colony, Talcher</td>\n",
       "      <td>Odisha State Pollution Control Board</td>\n",
       "      <td>Industrial Area</td>\n",
       "      <td>10</td>\n",
       "      <td>23</td>\n",
       "      <td>133</td>\n",
       "      <td>96.0</td>\n",
       "    </tr>\n",
       "    <tr>\n",
       "      <th>2</th>\n",
       "      <td>68</td>\n",
       "      <td>09-01-15</td>\n",
       "      <td>Odisha</td>\n",
       "      <td>Talcher</td>\n",
       "      <td>T.T.P.S.Colony, Talcher</td>\n",
       "      <td>Odisha State Pollution Control Board</td>\n",
       "      <td>Industrial Area</td>\n",
       "      <td>8</td>\n",
       "      <td>25</td>\n",
       "      <td>125</td>\n",
       "      <td>116.0</td>\n",
       "    </tr>\n",
       "    <tr>\n",
       "      <th>3</th>\n",
       "      <td>68</td>\n",
       "      <td>13-01-15</td>\n",
       "      <td>Odisha</td>\n",
       "      <td>Talcher</td>\n",
       "      <td>T.T.P.S.Colony, Talcher</td>\n",
       "      <td>Odisha State Pollution Control Board</td>\n",
       "      <td>Industrial Area</td>\n",
       "      <td>10</td>\n",
       "      <td>25</td>\n",
       "      <td>137</td>\n",
       "      <td>107.0</td>\n",
       "    </tr>\n",
       "    <tr>\n",
       "      <th>4</th>\n",
       "      <td>68</td>\n",
       "      <td>16-01-15</td>\n",
       "      <td>Odisha</td>\n",
       "      <td>Talcher</td>\n",
       "      <td>T.T.P.S.Colony, Talcher</td>\n",
       "      <td>Odisha State Pollution Control Board</td>\n",
       "      <td>Industrial Area</td>\n",
       "      <td>9</td>\n",
       "      <td>26</td>\n",
       "      <td>186</td>\n",
       "      <td>118.0</td>\n",
       "    </tr>\n",
       "    <tr>\n",
       "      <th>...</th>\n",
       "      <td>...</td>\n",
       "      <td>...</td>\n",
       "      <td>...</td>\n",
       "      <td>...</td>\n",
       "      <td>...</td>\n",
       "      <td>...</td>\n",
       "      <td>...</td>\n",
       "      <td>...</td>\n",
       "      <td>...</td>\n",
       "      <td>...</td>\n",
       "      <td>...</td>\n",
       "    </tr>\n",
       "    <tr>\n",
       "      <th>2387</th>\n",
       "      <td>819</td>\n",
       "      <td>15-12-15</td>\n",
       "      <td>Odisha</td>\n",
       "      <td>Kalinga Nagar</td>\n",
       "      <td>Roof of RO OFFICE BUILDING</td>\n",
       "      <td>Odisha State Pollution Control Board</td>\n",
       "      <td>Industrial Area</td>\n",
       "      <td>2</td>\n",
       "      <td>10</td>\n",
       "      <td>92</td>\n",
       "      <td>35.0</td>\n",
       "    </tr>\n",
       "    <tr>\n",
       "      <th>2388</th>\n",
       "      <td>819</td>\n",
       "      <td>17-12-15</td>\n",
       "      <td>Odisha</td>\n",
       "      <td>Kalinga Nagar</td>\n",
       "      <td>Roof of RO OFFICE BUILDING</td>\n",
       "      <td>Odisha State Pollution Control Board</td>\n",
       "      <td>Industrial Area</td>\n",
       "      <td>2</td>\n",
       "      <td>10</td>\n",
       "      <td>99</td>\n",
       "      <td>40.0</td>\n",
       "    </tr>\n",
       "    <tr>\n",
       "      <th>2389</th>\n",
       "      <td>819</td>\n",
       "      <td>22-12-15</td>\n",
       "      <td>Odisha</td>\n",
       "      <td>Kalinga Nagar</td>\n",
       "      <td>Roof of RO OFFICE BUILDING</td>\n",
       "      <td>Odisha State Pollution Control Board</td>\n",
       "      <td>Industrial Area</td>\n",
       "      <td>2</td>\n",
       "      <td>10</td>\n",
       "      <td>90</td>\n",
       "      <td>38.0</td>\n",
       "    </tr>\n",
       "    <tr>\n",
       "      <th>2390</th>\n",
       "      <td>819</td>\n",
       "      <td>26-12-15</td>\n",
       "      <td>Odisha</td>\n",
       "      <td>Kalinga Nagar</td>\n",
       "      <td>Roof of RO OFFICE BUILDING</td>\n",
       "      <td>Odisha State Pollution Control Board</td>\n",
       "      <td>Industrial Area</td>\n",
       "      <td>2</td>\n",
       "      <td>10</td>\n",
       "      <td>97</td>\n",
       "      <td>39.0</td>\n",
       "    </tr>\n",
       "    <tr>\n",
       "      <th>2391</th>\n",
       "      <td>819</td>\n",
       "      <td>29-12-15</td>\n",
       "      <td>Odisha</td>\n",
       "      <td>Kalinga Nagar</td>\n",
       "      <td>Roof of RO OFFICE BUILDING</td>\n",
       "      <td>Odisha State Pollution Control Board</td>\n",
       "      <td>Industrial Area</td>\n",
       "      <td>2</td>\n",
       "      <td>10</td>\n",
       "      <td>98</td>\n",
       "      <td>39.0</td>\n",
       "    </tr>\n",
       "  </tbody>\n",
       "</table>\n",
       "<p>2392 rows × 11 columns</p>\n",
       "</div>"
      ],
      "text/plain": [
       "      Stn Code Sampling Date   State           City  \\\n",
       "0           68      02-01-15  Odisha        Talcher   \n",
       "1           68      06-01-15  Odisha        Talcher   \n",
       "2           68      09-01-15  Odisha        Talcher   \n",
       "3           68      13-01-15  Odisha        Talcher   \n",
       "4           68      16-01-15  Odisha        Talcher   \n",
       "...        ...           ...     ...            ...   \n",
       "2387       819      15-12-15  Odisha  Kalinga Nagar   \n",
       "2388       819      17-12-15  Odisha  Kalinga Nagar   \n",
       "2389       819      22-12-15  Odisha  Kalinga Nagar   \n",
       "2390       819      26-12-15  Odisha  Kalinga Nagar   \n",
       "2391       819      29-12-15  Odisha  Kalinga Nagar   \n",
       "\n",
       "     Location of Monitoring Station                                Agency  \\\n",
       "0           T.T.P.S.Colony, Talcher  Odisha State Pollution Control Board   \n",
       "1           T.T.P.S.Colony, Talcher  Odisha State Pollution Control Board   \n",
       "2           T.T.P.S.Colony, Talcher  Odisha State Pollution Control Board   \n",
       "3           T.T.P.S.Colony, Talcher  Odisha State Pollution Control Board   \n",
       "4           T.T.P.S.Colony, Talcher  Odisha State Pollution Control Board   \n",
       "...                             ...                                   ...   \n",
       "2387     Roof of RO OFFICE BUILDING  Odisha State Pollution Control Board   \n",
       "2388     Roof of RO OFFICE BUILDING  Odisha State Pollution Control Board   \n",
       "2389     Roof of RO OFFICE BUILDING  Odisha State Pollution Control Board   \n",
       "2390     Roof of RO OFFICE BUILDING  Odisha State Pollution Control Board   \n",
       "2391     Roof of RO OFFICE BUILDING  Odisha State Pollution Control Board   \n",
       "\n",
       "     Type of Location  SO2  NO2  RSPM/PM10  PM 2.5  \n",
       "0     Industrial Area   11   24        143   102.0  \n",
       "1     Industrial Area   10   23        133    96.0  \n",
       "2     Industrial Area    8   25        125   116.0  \n",
       "3     Industrial Area   10   25        137   107.0  \n",
       "4     Industrial Area    9   26        186   118.0  \n",
       "...               ...  ...  ...        ...     ...  \n",
       "2387  Industrial Area    2   10         92    35.0  \n",
       "2388  Industrial Area    2   10         99    40.0  \n",
       "2389  Industrial Area    2   10         90    38.0  \n",
       "2390  Industrial Area    2   10         97    39.0  \n",
       "2391  Industrial Area    2   10         98    39.0  \n",
       "\n",
       "[2392 rows x 11 columns]"
      ]
     },
     "execution_count": 35,
     "metadata": {},
     "output_type": "execute_result"
    }
   ],
   "source": [
    "df"
   ]
  },
  {
   "cell_type": "code",
   "execution_count": 36,
   "id": "de23747c",
   "metadata": {},
   "outputs": [
    {
     "name": "stdout",
     "output_type": "stream",
     "text": [
      "Total number of null values 0\n"
     ]
    }
   ],
   "source": [
    "x=df_wna['PM 2.5'].isnull().sum()\n",
    "print(\"Total number of null values \"+ str(x))"
   ]
  },
  {
   "cell_type": "code",
   "execution_count": 37,
   "id": "24b7bee6",
   "metadata": {},
   "outputs": [
    {
     "data": {
      "text/plain": [
       "Index(['Stn Code', 'Sampling Date', 'State', 'City',\n",
       "       'Location of Monitoring Station', 'Agency', 'Type of Location', 'SO2',\n",
       "       'NO2', 'RSPM/PM10', 'PM 2.5'],\n",
       "      dtype='object')"
      ]
     },
     "execution_count": 37,
     "metadata": {},
     "output_type": "execute_result"
    }
   ],
   "source": [
    "df.columns"
   ]
  },
  {
   "cell_type": "code",
   "execution_count": 38,
   "id": "0c86ca1d",
   "metadata": {},
   "outputs": [],
   "source": [
    "df['so2_total']=df.groupby('City')['SO2'].transform('sum')"
   ]
  },
  {
   "cell_type": "code",
   "execution_count": 39,
   "id": "0cc6cd27",
   "metadata": {},
   "outputs": [
    {
     "data": {
      "text/plain": [
       "Index(['Stn Code', 'Sampling Date', 'State', 'City',\n",
       "       'Location of Monitoring Station', 'Agency', 'Type of Location', 'SO2',\n",
       "       'NO2', 'RSPM/PM10', 'PM 2.5', 'so2_total'],\n",
       "      dtype='object')"
      ]
     },
     "execution_count": 39,
     "metadata": {},
     "output_type": "execute_result"
    }
   ],
   "source": [
    "df.columns"
   ]
  },
  {
   "cell_type": "code",
   "execution_count": 40,
   "id": "6a8eaa6d",
   "metadata": {},
   "outputs": [
    {
     "data": {
      "text/html": [
       "<div>\n",
       "<style scoped>\n",
       "    .dataframe tbody tr th:only-of-type {\n",
       "        vertical-align: middle;\n",
       "    }\n",
       "\n",
       "    .dataframe tbody tr th {\n",
       "        vertical-align: top;\n",
       "    }\n",
       "\n",
       "    .dataframe thead th {\n",
       "        text-align: right;\n",
       "    }\n",
       "</style>\n",
       "<table border=\"1\" class=\"dataframe\">\n",
       "  <thead>\n",
       "    <tr style=\"text-align: right;\">\n",
       "      <th></th>\n",
       "      <th>Stn Code</th>\n",
       "      <th>Sampling Date</th>\n",
       "      <th>State</th>\n",
       "      <th>City</th>\n",
       "      <th>Location of Monitoring Station</th>\n",
       "      <th>Agency</th>\n",
       "      <th>Type of Location</th>\n",
       "      <th>SO2</th>\n",
       "      <th>NO2</th>\n",
       "      <th>RSPM/PM10</th>\n",
       "      <th>PM 2.5</th>\n",
       "      <th>so2_total</th>\n",
       "    </tr>\n",
       "  </thead>\n",
       "  <tbody>\n",
       "    <tr>\n",
       "      <th>0</th>\n",
       "      <td>68</td>\n",
       "      <td>02-01-15</td>\n",
       "      <td>Odisha</td>\n",
       "      <td>Talcher</td>\n",
       "      <td>T.T.P.S.Colony, Talcher</td>\n",
       "      <td>Odisha State Pollution Control Board</td>\n",
       "      <td>Industrial Area</td>\n",
       "      <td>11</td>\n",
       "      <td>24</td>\n",
       "      <td>143</td>\n",
       "      <td>102.0</td>\n",
       "      <td>1039</td>\n",
       "    </tr>\n",
       "    <tr>\n",
       "      <th>1</th>\n",
       "      <td>68</td>\n",
       "      <td>06-01-15</td>\n",
       "      <td>Odisha</td>\n",
       "      <td>Talcher</td>\n",
       "      <td>T.T.P.S.Colony, Talcher</td>\n",
       "      <td>Odisha State Pollution Control Board</td>\n",
       "      <td>Industrial Area</td>\n",
       "      <td>10</td>\n",
       "      <td>23</td>\n",
       "      <td>133</td>\n",
       "      <td>96.0</td>\n",
       "      <td>1039</td>\n",
       "    </tr>\n",
       "    <tr>\n",
       "      <th>2</th>\n",
       "      <td>68</td>\n",
       "      <td>09-01-15</td>\n",
       "      <td>Odisha</td>\n",
       "      <td>Talcher</td>\n",
       "      <td>T.T.P.S.Colony, Talcher</td>\n",
       "      <td>Odisha State Pollution Control Board</td>\n",
       "      <td>Industrial Area</td>\n",
       "      <td>8</td>\n",
       "      <td>25</td>\n",
       "      <td>125</td>\n",
       "      <td>116.0</td>\n",
       "      <td>1039</td>\n",
       "    </tr>\n",
       "    <tr>\n",
       "      <th>3</th>\n",
       "      <td>68</td>\n",
       "      <td>13-01-15</td>\n",
       "      <td>Odisha</td>\n",
       "      <td>Talcher</td>\n",
       "      <td>T.T.P.S.Colony, Talcher</td>\n",
       "      <td>Odisha State Pollution Control Board</td>\n",
       "      <td>Industrial Area</td>\n",
       "      <td>10</td>\n",
       "      <td>25</td>\n",
       "      <td>137</td>\n",
       "      <td>107.0</td>\n",
       "      <td>1039</td>\n",
       "    </tr>\n",
       "    <tr>\n",
       "      <th>4</th>\n",
       "      <td>68</td>\n",
       "      <td>16-01-15</td>\n",
       "      <td>Odisha</td>\n",
       "      <td>Talcher</td>\n",
       "      <td>T.T.P.S.Colony, Talcher</td>\n",
       "      <td>Odisha State Pollution Control Board</td>\n",
       "      <td>Industrial Area</td>\n",
       "      <td>9</td>\n",
       "      <td>26</td>\n",
       "      <td>186</td>\n",
       "      <td>118.0</td>\n",
       "      <td>1039</td>\n",
       "    </tr>\n",
       "    <tr>\n",
       "      <th>...</th>\n",
       "      <td>...</td>\n",
       "      <td>...</td>\n",
       "      <td>...</td>\n",
       "      <td>...</td>\n",
       "      <td>...</td>\n",
       "      <td>...</td>\n",
       "      <td>...</td>\n",
       "      <td>...</td>\n",
       "      <td>...</td>\n",
       "      <td>...</td>\n",
       "      <td>...</td>\n",
       "      <td>...</td>\n",
       "    </tr>\n",
       "    <tr>\n",
       "      <th>2387</th>\n",
       "      <td>819</td>\n",
       "      <td>15-12-15</td>\n",
       "      <td>Odisha</td>\n",
       "      <td>Kalinga Nagar</td>\n",
       "      <td>Roof of RO OFFICE BUILDING</td>\n",
       "      <td>Odisha State Pollution Control Board</td>\n",
       "      <td>Industrial Area</td>\n",
       "      <td>2</td>\n",
       "      <td>10</td>\n",
       "      <td>92</td>\n",
       "      <td>35.0</td>\n",
       "      <td>615</td>\n",
       "    </tr>\n",
       "    <tr>\n",
       "      <th>2388</th>\n",
       "      <td>819</td>\n",
       "      <td>17-12-15</td>\n",
       "      <td>Odisha</td>\n",
       "      <td>Kalinga Nagar</td>\n",
       "      <td>Roof of RO OFFICE BUILDING</td>\n",
       "      <td>Odisha State Pollution Control Board</td>\n",
       "      <td>Industrial Area</td>\n",
       "      <td>2</td>\n",
       "      <td>10</td>\n",
       "      <td>99</td>\n",
       "      <td>40.0</td>\n",
       "      <td>615</td>\n",
       "    </tr>\n",
       "    <tr>\n",
       "      <th>2389</th>\n",
       "      <td>819</td>\n",
       "      <td>22-12-15</td>\n",
       "      <td>Odisha</td>\n",
       "      <td>Kalinga Nagar</td>\n",
       "      <td>Roof of RO OFFICE BUILDING</td>\n",
       "      <td>Odisha State Pollution Control Board</td>\n",
       "      <td>Industrial Area</td>\n",
       "      <td>2</td>\n",
       "      <td>10</td>\n",
       "      <td>90</td>\n",
       "      <td>38.0</td>\n",
       "      <td>615</td>\n",
       "    </tr>\n",
       "    <tr>\n",
       "      <th>2390</th>\n",
       "      <td>819</td>\n",
       "      <td>26-12-15</td>\n",
       "      <td>Odisha</td>\n",
       "      <td>Kalinga Nagar</td>\n",
       "      <td>Roof of RO OFFICE BUILDING</td>\n",
       "      <td>Odisha State Pollution Control Board</td>\n",
       "      <td>Industrial Area</td>\n",
       "      <td>2</td>\n",
       "      <td>10</td>\n",
       "      <td>97</td>\n",
       "      <td>39.0</td>\n",
       "      <td>615</td>\n",
       "    </tr>\n",
       "    <tr>\n",
       "      <th>2391</th>\n",
       "      <td>819</td>\n",
       "      <td>29-12-15</td>\n",
       "      <td>Odisha</td>\n",
       "      <td>Kalinga Nagar</td>\n",
       "      <td>Roof of RO OFFICE BUILDING</td>\n",
       "      <td>Odisha State Pollution Control Board</td>\n",
       "      <td>Industrial Area</td>\n",
       "      <td>2</td>\n",
       "      <td>10</td>\n",
       "      <td>98</td>\n",
       "      <td>39.0</td>\n",
       "      <td>615</td>\n",
       "    </tr>\n",
       "  </tbody>\n",
       "</table>\n",
       "<p>2392 rows × 12 columns</p>\n",
       "</div>"
      ],
      "text/plain": [
       "      Stn Code Sampling Date   State           City  \\\n",
       "0           68      02-01-15  Odisha        Talcher   \n",
       "1           68      06-01-15  Odisha        Talcher   \n",
       "2           68      09-01-15  Odisha        Talcher   \n",
       "3           68      13-01-15  Odisha        Talcher   \n",
       "4           68      16-01-15  Odisha        Talcher   \n",
       "...        ...           ...     ...            ...   \n",
       "2387       819      15-12-15  Odisha  Kalinga Nagar   \n",
       "2388       819      17-12-15  Odisha  Kalinga Nagar   \n",
       "2389       819      22-12-15  Odisha  Kalinga Nagar   \n",
       "2390       819      26-12-15  Odisha  Kalinga Nagar   \n",
       "2391       819      29-12-15  Odisha  Kalinga Nagar   \n",
       "\n",
       "     Location of Monitoring Station                                Agency  \\\n",
       "0           T.T.P.S.Colony, Talcher  Odisha State Pollution Control Board   \n",
       "1           T.T.P.S.Colony, Talcher  Odisha State Pollution Control Board   \n",
       "2           T.T.P.S.Colony, Talcher  Odisha State Pollution Control Board   \n",
       "3           T.T.P.S.Colony, Talcher  Odisha State Pollution Control Board   \n",
       "4           T.T.P.S.Colony, Talcher  Odisha State Pollution Control Board   \n",
       "...                             ...                                   ...   \n",
       "2387     Roof of RO OFFICE BUILDING  Odisha State Pollution Control Board   \n",
       "2388     Roof of RO OFFICE BUILDING  Odisha State Pollution Control Board   \n",
       "2389     Roof of RO OFFICE BUILDING  Odisha State Pollution Control Board   \n",
       "2390     Roof of RO OFFICE BUILDING  Odisha State Pollution Control Board   \n",
       "2391     Roof of RO OFFICE BUILDING  Odisha State Pollution Control Board   \n",
       "\n",
       "     Type of Location  SO2  NO2  RSPM/PM10  PM 2.5  so2_total  \n",
       "0     Industrial Area   11   24        143   102.0       1039  \n",
       "1     Industrial Area   10   23        133    96.0       1039  \n",
       "2     Industrial Area    8   25        125   116.0       1039  \n",
       "3     Industrial Area   10   25        137   107.0       1039  \n",
       "4     Industrial Area    9   26        186   118.0       1039  \n",
       "...               ...  ...  ...        ...     ...        ...  \n",
       "2387  Industrial Area    2   10         92    35.0        615  \n",
       "2388  Industrial Area    2   10         99    40.0        615  \n",
       "2389  Industrial Area    2   10         90    38.0        615  \n",
       "2390  Industrial Area    2   10         97    39.0        615  \n",
       "2391  Industrial Area    2   10         98    39.0        615  \n",
       "\n",
       "[2392 rows x 12 columns]"
      ]
     },
     "execution_count": 40,
     "metadata": {},
     "output_type": "execute_result"
    }
   ],
   "source": [
    "df"
   ]
  },
  {
   "cell_type": "code",
   "execution_count": null,
   "id": "ab658e3a-dbe4-4d4b-aed9-36c99f05183a",
   "metadata": {},
   "outputs": [],
   "source": []
  }
 ],
 "metadata": {
  "kernelspec": {
   "display_name": "Python 3",
   "language": "python",
   "name": "python3"
  },
  "language_info": {
   "codemirror_mode": {
    "name": "ipython",
    "version": 3
   },
   "file_extension": ".py",
   "mimetype": "text/x-python",
   "name": "python",
   "nbconvert_exporter": "python",
   "pygments_lexer": "ipython3",
   "version": "3.8.8"
  }
 },
 "nbformat": 4,
 "nbformat_minor": 5
}
